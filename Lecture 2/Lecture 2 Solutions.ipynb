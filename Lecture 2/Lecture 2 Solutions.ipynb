{
 "cells": [
  {
   "cell_type": "markdown",
   "metadata": {},
   "source": [
    "# Part 1: Easy\n",
    "\n",
    "You are building a syring pump in your hackspace practial. Though it is simple enough to do this by 'hand' or on excel, it is a good exercise to try our sklearn (scikit - learn). Given the voltage or current setting, you will measure flow rates. Take this data an build a calibration curve.\n",
    "\n",
    "https://scikit-learn.org/stable/modules/generated/sklearn.linear_model.LinearRegression.html\n",
    "\n",
    "https://scikit-learn.org/stable/auto_examples/linear_model/plot_ols.html#sphx-glr-auto-examples-linear-model-plot-ols-py"
   ]
  },
  {
   "cell_type": "code",
   "execution_count": 1,
   "metadata": {},
   "outputs": [],
   "source": [
    "import numpy as np\n",
    "import matplotlib.pyplot as plt\n",
    "import pandas as pd\n",
    "from sklearn.linear_model import LinearRegression\n",
    "X = np.array([0, 0.1, 0.5, 0.7, 0.9, 1.1, 3, 3.7]).reshape(-1,1)\n",
    "y = np.array([5, 7, 8.8, 12, 15, 17.3, 22, 30]).reshape(-1,1)"
   ]
  },
  {
   "cell_type": "code",
   "execution_count": 2,
   "metadata": {},
   "outputs": [
    {
     "name": "stdout",
     "output_type": "stream",
     "text": [
      "0.9259013483676294 [[5.91473765]] [7.24407793]\n"
     ]
    }
   ],
   "source": [
    "reg = LinearRegression()\n",
    "reg.fit(X, y)\n",
    "print(reg.score(X, y), reg.coef_, reg.intercept_)"
   ]
  },
  {
   "cell_type": "code",
   "execution_count": 3,
   "metadata": {},
   "outputs": [
    {
     "data": {
      "text/plain": [
       "[<matplotlib.lines.Line2D at 0xb56a3c8>]"
      ]
     },
     "execution_count": 3,
     "metadata": {},
     "output_type": "execute_result"
    },
    {
     "data": {
      "image/png": "[encoded data removed]",
      "text/plain": [
       "<Figure size 432x288 with 1 Axes>"
      ]
     },
     "metadata": {
      "needs_background": "light"
     },
     "output_type": "display_data"
    }
   ],
   "source": [
    "X_test = np.array([0,4]).reshape(-1,1)\n",
    "y_test = reg.predict(X_test)\n",
    "plt.scatter(X,y)\n",
    "plt.plot(X_test,y_test)"
   ]
  },
  {
   "cell_type": "markdown",
   "metadata": {},
   "source": [
    "# Part 2: Challenge\n",
    "\n",
    "### Binary Classification: Predicting the mechanism of action (MOA) for polar and nonpolar narcotic compounds\n",
    "\n",
    "Quantitative structure-activity relationships (QSARs) are the early incarnations of modern machine learning. Here we are looking to predict toxicity categories (MOAs) for a given structure based on known data. For example, see Table 7 from [Ivanciuc - Applications of Support Vector Machines in Chemistry](http://www.cbs.dtu.dk/courses/27623.algo/material/SVM/Ivanciuc_SVM_CCR_2007_23_291.pdf), where the energy of the **highest occupied molecular orbital** $EHOMO$,  **lowest unoccupied molecular orbital** $ELUMO$, and most negative partial charge on any non-hydrogen atom in the molecule **$Q^-$**"
   ]
  },
  {
   "cell_type": "code",
   "execution_count": 4,
   "metadata": {},
   "outputs": [],
   "source": [
    "# confusion matrix\n",
    "def conf_mat(y_pred, y_test, title):\n",
    "    cm = confusion_matrix(y_pred,y_test)\n",
    "    sns.heatmap(1*(cm-np.min(cm))/(np.max(cm)-np.min(cm)), annot=True, xticklabels=['class 1', 'class -1'], yticklabels=['TP', 'FP'])\n",
    "    plt.xlabel('Predicted')\n",
    "    plt.ylabel('Actual')\n",
    "    plt.title(title)\n",
    "    plt.show()\n",
    "    \n",
    "# roc plot\n",
    "def roc_plot(clf, X_train, y_train, X_test, y_test, title):\n",
    "    # get y score or target scors from the decision function\n",
    "    #y_score = clf.fit(X_train, y_train).decision_function(X_test)\n",
    "    y_score = clf.decision_function(X_test)\n",
    "    \n",
    "    # false positive and true positive rate\n",
    "    fpr, tpr, thresholds = roc_curve(y_test, y_score)\n",
    "    # area under the curve\n",
    "    roc_auc = auc(fpr, tpr)\n",
    "    plt.plot(fpr, tpr, label = 'model')\n",
    "    plt.plot([0,1], [0,1], label='luck')\n",
    "    plt.xlabel('False Positive Rate')\n",
    "    plt.ylabel('True Positive Rate')\n",
    "    plt.title(f'Receiver Operating Charactersitic on {title}')\n",
    "    plt.legend()\n",
    "    plt.show()\n",
    "\n",
    "    print(\"Area under the curve:\", roc_auc)"
   ]
  },
  {
   "cell_type": "code",
   "execution_count": 5,
   "metadata": {},
   "outputs": [
    {
     "name": "stdout",
     "output_type": "stream",
     "text": [
      "(20, 3) (20, 1)\n",
      "(10, 3) (10, 1)\n"
     ]
    }
   ],
   "source": [
    "from sklearn.ensemble import RandomForestClassifier\n",
    "from sklearn.model_selection import train_test_split\n",
    "from sklearn.preprocessing import StandardScaler\n",
    "from sklearn.metrics import accuracy_score, confusion_matrix, roc_curve, auc\n",
    "import seaborn as sns\n",
    "\n",
    "# real data\n",
    "df = pd.read_csv('toxicSVM.txt', sep='\\t')\n",
    "df.tail()\n",
    "\n",
    "X = df[['EHOMO', 'ELUMO', 'Q\"']].values\n",
    "y = df[['Class']].values\n",
    "\n",
    "print(X.shape,y.shape)\n",
    "\n",
    "X_train, X_test, y_train, y_test = train_test_split(X, y, test_size=0.5, random_state=42)\n",
    "print(X_train.shape, y_train.shape)"
   ]
  },
  {
   "cell_type": "code",
   "execution_count": 6,
   "metadata": {},
   "outputs": [
    {
     "name": "stderr",
     "output_type": "stream",
     "text": [
      "C:\\Users\\nebarlow\\anaconda3\\lib\\site-packages\\ipykernel_launcher.py:2: DataConversionWarning: A column-vector y was passed when a 1d array was expected. Please change the shape of y to (n_samples,), for example using ravel().\n",
      "  \n"
     ]
    },
    {
     "data": {
      "image/png": "[encoded data removed]",
      "text/plain": [
       "<Figure size 432x288 with 2 Axes>"
      ]
     },
     "metadata": {
      "needs_background": "light"
     },
     "output_type": "display_data"
    },
    {
     "data": {
      "image/png": "[encoded data removed]",
      "text/plain": [
       "<Figure size 432x288 with 1 Axes>"
      ]
     },
     "metadata": {
      "needs_background": "light"
     },
     "output_type": "display_data"
    }
   ],
   "source": [
    "clf = RandomForestClassifier(n_estimators=100, max_depth=5,random_state=0)\n",
    "clf.fit(X_train, y_train)\n",
    "y_pred = clf.predict(X_test)\n",
    "accuracy_score(y_pred,y_test)\n",
    "conf_mat(y_pred,y_test, 'random forest')\n",
    "\n",
    "plt.title('Feature Importance')\n",
    "_ = plt.bar(['EHOMO', 'ELUMO', 'Q\"'], clf.feature_importances_)"
   ]
  },
  {
   "cell_type": "code",
   "execution_count": null,
   "metadata": {},
   "outputs": [],
   "source": []
  },
  {
   "cell_type": "code",
   "execution_count": null,
   "metadata": {},
   "outputs": [],
   "source": []
  }
 ],
 "metadata": {
  "kernelspec": {
   "display_name": "Python 3",
   "language": "python",
   "name": "python3"
  },
  "language_info": {
   "codemirror_mode": {
    "name": "ipython",
    "version": 3
   },
   "file_extension": ".py",
   "mimetype": "text/x-python",
   "name": "python",
   "nbconvert_exporter": "python",
   "pygments_lexer": "ipython3",
   "version": "3.7.3"
  }
 },
 "nbformat": 4,
 "nbformat_minor": 2
}
