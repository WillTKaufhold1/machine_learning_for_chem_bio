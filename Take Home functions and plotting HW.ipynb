{
 "cells": [
  {
   "cell_type": "markdown",
   "metadata": {},
   "source": [
    "# A little notebook on python functions\n"
   ]
  },
  {
   "cell_type": "markdown",
   "metadata": {},
   "source": [
    "To perform more complex operations on data, you will be frequently using two mechanisms made available by the Python language: functions and methods. \n",
    "\n",
    "You have already come across and used both functions and methods written by others during the course (Standing on the shoulders of giants!) these have included: type(), len(), float(), print() and range() (note the () after each function call).\n",
    "\n",
    "The general syntax of a function call is:\n",
    "\n",
    "    function_name(function_arguments)\n",
    "    \n",
    "and we will obtain the result of the function operation on the argument. In the example\n",
    "    \n",
    "    len(\"Hello\")\n",
    "    \n",
    "Run the len() function with any string argument below, what does the function return?"
   ]
  },
  {
   "cell_type": "code",
   "execution_count": 1,
   "metadata": {},
   "outputs": [
    {
     "data": {
      "text/plain": [
       "5"
      ]
     },
     "execution_count": 1,
     "metadata": {},
     "output_type": "execute_result"
    }
   ],
   "source": [
    "len(\"Hello\") "
   ]
  },
  {
   "cell_type": "markdown",
   "metadata": {},
   "source": [
    "What happens if your argument is a list?"
   ]
  },
  {
   "cell_type": "code",
   "execution_count": 2,
   "metadata": {},
   "outputs": [
    {
     "data": {
      "text/plain": [
       "4"
      ]
     },
     "execution_count": 2,
     "metadata": {},
     "output_type": "execute_result"
    }
   ],
   "source": [
    "len([1,2,3,4])"
   ]
  },
  {
   "cell_type": "markdown",
   "metadata": {},
   "source": [
    "since the len() function is already defined for a set of valid non-scalar arguments, we need not redefine it for every argument seperately. What happens if your argument is scalar? Try it below."
   ]
  },
  {
   "cell_type": "code",
   "execution_count": 3,
   "metadata": {},
   "outputs": [
    {
     "ename": "TypeError",
     "evalue": "object of type 'int' has no len()",
     "output_type": "error",
     "traceback": [
      "\u001b[1;31m---------------------------------------------------------------------------\u001b[0m",
      "\u001b[1;31mTypeError\u001b[0m                                 Traceback (most recent call last)",
      "\u001b[1;32m<ipython-input-3-8ddb87effe17>\u001b[0m in \u001b[0;36m<module>\u001b[1;34m()\u001b[0m\n\u001b[1;32m----> 1\u001b[1;33m \u001b[0mlen\u001b[0m\u001b[1;33m(\u001b[0m\u001b[1;36m6\u001b[0m\u001b[1;33m)\u001b[0m\u001b[1;33m\u001b[0m\u001b[0m\n\u001b[0m",
      "\u001b[1;31mTypeError\u001b[0m: object of type 'int' has no len()"
     ]
    }
   ],
   "source": [
    "len(6)"
   ]
  },
  {
   "cell_type": "markdown",
   "metadata": {},
   "source": [
    "## Redefining the len() function from scratch"
   ]
  },
  {
   "cell_type": "markdown",
   "metadata": {},
   "source": [
    "len() is an in-built python function, and is automatically \"imported\" with each python script. Let's re-write the len() function by defining a new function with the same name.\n",
    "\n",
    "To define a function we use the `def` keyword to start the function header, the function's logic is written underneath the header with indentation, the function definition is complete with the `return` keyword which outputs the result of the function. The general syntax looks like this:\n",
    "\n",
    "```\n",
    "def function_name(function_arguments):\n",
    "\n",
    "    '''doc string describing function'''\n",
    "    \n",
    "    result = do some stuff with function_arguments \n",
    "    \n",
    "    return result\n",
    "```\n",
    "\n",
    "An example function f below takes an argument x and returns y, we can use this function to calculate y values from a set of x values for $y=x^2$"
   ]
  },
  {
   "cell_type": "code",
   "execution_count": 4,
   "metadata": {},
   "outputs": [],
   "source": [
    "def f(x):\n",
    "    '''Return x^2'''\n",
    "    y = x**2\n",
    "    return y"
   ]
  },
  {
   "cell_type": "markdown",
   "metadata": {},
   "source": [
    "Note how python keywords are highlighted with the same green colour (`def` and `return`)"
   ]
  },
  {
   "cell_type": "markdown",
   "metadata": {},
   "source": [
    "### Using the function f, numpy and matplotlib, plot a graph of $y=x^2$ between $x=-10$ and $x=10$ "
   ]
  },
  {
   "cell_type": "code",
   "execution_count": null,
   "metadata": {},
   "outputs": [],
   "source": []
  },
  {
   "cell_type": "code",
   "execution_count": 5,
   "metadata": {},
   "outputs": [],
   "source": [
    "#ANSWER\n",
    "import numpy as np\n",
    "import matplotlib.pyplot as plt\n",
    "\n",
    "\n",
    "x = np.linspace(-10,10)\n",
    "y = f(x)\n",
    "\n",
    "plt.plot(x,y)"
   ]
  },
  {
   "cell_type": "markdown",
   "metadata": {},
   "source": [
    "### Now that we know how functions are defined, redefine len() below using one for loop. Assume only iterable arguments will be passed through the function."
   ]
  },
  {
   "cell_type": "code",
   "execution_count": 7,
   "metadata": {},
   "outputs": [],
   "source": [
    "def len(x):\n",
    "    length = 0\n",
    "    for i in x:\n",
    "        length +=1\n",
    "    return length"
   ]
  },
  {
   "cell_type": "code",
   "execution_count": 8,
   "metadata": {},
   "outputs": [
    {
     "data": {
      "text/plain": [
       "5"
      ]
     },
     "execution_count": 8,
     "metadata": {},
     "output_type": "execute_result"
    }
   ],
   "source": [
    "len('hello')"
   ]
  },
  {
   "cell_type": "markdown",
   "metadata": {},
   "source": [
    "### Import from [scipy stats](https://docs.scipy.org/doc/scipy/reference/stats.html) a package that will allow you to perform linear regression. "
   ]
  },
  {
   "cell_type": "code",
   "execution_count": 9,
   "metadata": {},
   "outputs": [],
   "source": [
    "from scipy.stats import linregress"
   ]
  },
  {
   "cell_type": "markdown",
   "metadata": {},
   "source": [
    "Write a function that will return the following equation from arguments of x, A and B: \n",
    "\n",
    "$y = (A+x^2)B$"
   ]
  },
  {
   "cell_type": "code",
   "execution_count": 10,
   "metadata": {},
   "outputs": [],
   "source": [
    "def func(A,x,B):\n",
    "    return (A+x**2)*B"
   ]
  },
  {
   "cell_type": "markdown",
   "metadata": {},
   "source": [
    "Create the variable $x$ which is an array of 100 equally spaced values ranging from 0 to 100."
   ]
  },
  {
   "cell_type": "code",
   "execution_count": 11,
   "metadata": {},
   "outputs": [],
   "source": [
    "x = np.linspace(0,100,100)"
   ]
  },
  {
   "cell_type": "markdown",
   "metadata": {},
   "source": [
    "Compute the $y$ values using your function, your $x$ array and an arbitary integer choice for $A$ and $B$"
   ]
  },
  {
   "cell_type": "code",
   "execution_count": 12,
   "metadata": {},
   "outputs": [],
   "source": [
    "y = func(2,x,8)"
   ]
  },
  {
   "cell_type": "markdown",
   "metadata": {},
   "source": [
    "Create an array called Adat, containing 8 equally spaced values between 0 and 10000."
   ]
  },
  {
   "cell_type": "code",
   "execution_count": 13,
   "metadata": {},
   "outputs": [],
   "source": [
    "Adat = np.linspace(0,10000,8)"
   ]
  },
  {
   "cell_type": "markdown",
   "metadata": {},
   "source": [
    "Create an array called Bdat, containing 8 equally spaced values between 0 and 10000."
   ]
  },
  {
   "cell_type": "code",
   "execution_count": 14,
   "metadata": {},
   "outputs": [],
   "source": [
    "Bdat = np.linspace(0,10000,8)"
   ]
  },
  {
   "cell_type": "markdown",
   "metadata": {},
   "source": [
    "Create a new list of all the possible combinations of A and B values from your Adat and Bdat arrays, assign that list to a variable called AB.\n",
    "\n",
    "Tip: use [itertools.product](https://docs.python.org/2/library/itertools.html#itertools.product), a handy library function for cartesian product"
   ]
  },
  {
   "cell_type": "code",
   "execution_count": 15,
   "metadata": {},
   "outputs": [
    {
     "data": {
      "text/plain": [
       "64"
      ]
     },
     "execution_count": 15,
     "metadata": {},
     "output_type": "execute_result"
    }
   ],
   "source": [
    "from itertools import product\n",
    "\n",
    "AB = list(product(Adat,Bdat))\n",
    "len(AB)"
   ]
  },
  {
   "cell_type": "markdown",
   "metadata": {},
   "source": [
    "Iterate through each combination in AB and plot all 64 function results for each A and B with the x values from your x array."
   ]
  },
  {
   "cell_type": "code",
   "execution_count": 16,
   "metadata": {},
   "outputs": [
    {
     "data": {
      "image/png": "[encoded data removed]",
      "text/plain": [
       "<Figure size 432x288 with 1 Axes>"
      ]
     },
     "metadata": {
      "needs_background": "light"
     },
     "output_type": "display_data"
    }
   ],
   "source": [
    "for val in AB:\n",
    "    A = val[0]\n",
    "    B = val[1]\n",
    "    y = func(A,x,B)\n",
    "    plt.scatter(x,y)\n",
    "plt.show()"
   ]
  },
  {
   "cell_type": "markdown",
   "metadata": {},
   "source": [
    "Rerun the for loop, appending each of your y arrays to an empty list called proxydat. "
   ]
  },
  {
   "cell_type": "code",
   "execution_count": 17,
   "metadata": {},
   "outputs": [
    {
     "data": {
      "image/png": "[encoded data removed]",
      "text/plain": [
       "<Figure size 432x288 with 1 Axes>"
      ]
     },
     "metadata": {
      "needs_background": "light"
     },
     "output_type": "display_data"
    }
   ],
   "source": [
    "proxydat = []\n",
    "for val in AB:\n",
    "    A = val[0]\n",
    "    B = val[1]\n",
    "    y = func(A,x,B)\n",
    "    plt.scatter(x,y)\n",
    "    proxydat.append(y)\n",
    "plt.show()"
   ]
  },
  {
   "cell_type": "markdown",
   "metadata": {},
   "source": [
    "Convert proxyydat into a numpy array and save this as a [.npy](https://docs.scipy.org/doc/numpy/reference/generated/numpy.save.html) file called finalydat."
   ]
  },
  {
   "cell_type": "code",
   "execution_count": 18,
   "metadata": {},
   "outputs": [],
   "source": [
    "finalydat = np.array(proxydat)\n",
    "np.save('finalydat',finalydat)"
   ]
  },
  {
   "cell_type": "markdown",
   "metadata": {},
   "source": [
    "Before moving forward, ensure that the shape of finalydat is (64, 100). "
   ]
  },
  {
   "cell_type": "code",
   "execution_count": 19,
   "metadata": {},
   "outputs": [
    {
     "data": {
      "text/plain": [
       "(64, 100)"
      ]
     },
     "execution_count": 19,
     "metadata": {},
     "output_type": "execute_result"
    }
   ],
   "source": [
    "finalydat.shape"
   ]
  },
  {
   "cell_type": "markdown",
   "metadata": {},
   "source": [
    "Given the following, complete the following for loop such that it will return three markers (use a large size, i.e. (s = 100)) plotting the minimum, mean and max of each curve. Rerun your previous for loop after this loop and use plt.show() to place both plots on a single output. "
   ]
  },
  {
   "cell_type": "markdown",
   "metadata": {},
   "source": [
    "### Harder challenges"
   ]
  },
  {
   "cell_type": "code",
   "execution_count": 20,
   "metadata": {},
   "outputs": [],
   "source": [
    "center = x[57]\n",
    "minx = np.min(x)\n",
    "maxx = np.max(x)\n",
    "\n",
    "xplot = [minx,center,maxx]\n",
    "\n"
   ]
  },
  {
   "cell_type": "code",
   "execution_count": 23,
   "metadata": {},
   "outputs": [
    {
     "data": {
      "image/png": "[encoded data removed]",
      "text/plain": [
       "<Figure size 432x288 with 1 Axes>"
      ]
     },
     "metadata": {
      "needs_background": "light"
     },
     "output_type": "display_data"
    }
   ],
   "source": [
    "#ANSWER\n",
    "\n",
    "center = x[57]\n",
    "minx = np.min(x)\n",
    "maxx = np.max(x)\n",
    "\n",
    "xplot = [minx,center,maxx]\n",
    "\n",
    "for i in range (0,64):\n",
    "    meany = np.mean(finalydat[i])\n",
    "    miny = np.min(finalydat[i])\n",
    "    maxy = np.max(finalydat[i])\n",
    "    \n",
    "    yplot = [miny, meany,maxy]\n",
    "    \n",
    "    plt.scatter(xplot,yplot, s = 100)\n",
    "    \n",
    "for val in AB:\n",
    "    A = val[0]\n",
    "    B = val[1]\n",
    "    y = func(A,x,B)\n",
    "    plt.scatter(x,y)\n",
    "    \n",
    "plt.show()"
   ]
  },
  {
   "cell_type": "markdown",
   "metadata": {},
   "source": [
    "## Multi-argument functions and default values"
   ]
  },
  {
   "cell_type": "markdown",
   "metadata": {},
   "source": [
    "For each function, you can have multiple arguments or none, that is a choice entirely made by the programmer, usually, the more arguments a function can take, the more flexible/generalised the function is. \n",
    "\n",
    "The function `sin3df` below generates the $z$ values and returns the 3d co-ordinates from a set of given $x$ and $y$ values for the 3d Sine function.\n",
    " \n",
    "Using this function, plot a [contour graph](https://matplotlib.org/3.1.1/tutorials/toolkits/mplot3d.html) of $z=sin(x,y)$ between $x=-6$, $x=6$, $y=-6$, $y=6$ "
   ]
  },
  {
   "cell_type": "code",
   "execution_count": 24,
   "metadata": {},
   "outputs": [],
   "source": [
    "%matplotlib notebook\n",
    "\n",
    "def sin3df(x,y):\n",
    "    X, Y = np.meshgrid(x,y)\n",
    "    Z = np.sin(np.sqrt(X ** 2 + Y ** 2))\n",
    "    return X, Y, Z"
   ]
  },
  {
   "cell_type": "code",
   "execution_count": 36,
   "metadata": {},
   "outputs": [
    {
     "data": {
      "application/javascript": [
       "/* Put everything inside the global mpl namespace */\n",
       "window.mpl = {};\n",
       "\n",
       "\n",
       "mpl.get_websocket_type = function() {\n",
       "    if (typeof(WebSocket) !== 'undefined') {\n",
       "        return WebSocket;\n",
       "    } else if (typeof(MozWebSocket) !== 'undefined') {\n",
       "        return MozWebSocket;\n",
       "    } else {\n",
       "        alert('Your browser does not have WebSocket support. ' +\n",
       "              'Please try Chrome, Safari or Firefox ≥ 6. ' +\n",
       "              'Firefox 4 and 5 are also supported but you ' +\n",
       "              'have to enable WebSockets in about:config.');\n",
       "    };\n",
       "}\n",
       "\n",
       "mpl.figure = function(figure_id, websocket, ondownload, parent_element) {\n",
       "    this.id = figure_id;\n",
       "\n",
       "    this.ws = websocket;\n",
       "\n",
       "    this.supports_binary = (this.ws.binaryType != undefined);\n",
       "\n",
       "    if (!this.supports_binary) {\n",
       "        var warnings = document.getElementById(\"mpl-warnings\");\n",
       "        if (warnings) {\n",
       "            warnings.style.display = 'block';\n",
       "            warnings.textContent = (\n",
       "                \"This browser does not support binary websocket messages. \" +\n",
       "                    \"Performance may be slow.\");\n",
       "        }\n",
       "    }\n",
       "\n",
       "    this.imageObj = new Image();\n",
       "\n",
       "    this.context = undefined;\n",
       "    this.message = undefined;\n",
       "    this.canvas = undefined;\n",
       "    this.rubberband_canvas = undefined;\n",
       "    this.rubberband_context = undefined;\n",
       "    this.format_dropdown = undefined;\n",
       "\n",
       "    this.image_mode = 'full';\n",
       "\n",
       "    this.root = $('<div/>');\n",
       "    this._root_extra_style(this.root)\n",
       "    this.root.attr('style', 'display: inline-block');\n",
       "\n",
       "    $(parent_element).append(this.root);\n",
       "\n",
       "    this._init_header(this);\n",
       "    this._init_canvas(this);\n",
       "    this._init_toolbar(this);\n",
       "\n",
       "    var fig = this;\n",
       "\n",
       "    this.waiting = false;\n",
       "\n",
       "    this.ws.onopen =  function () {\n",
       "            fig.send_message(\"supports_binary\", {value: fig.supports_binary});\n",
       "            fig.send_message(\"send_image_mode\", {});\n",
       "            if (mpl.ratio != 1) {\n",
       "                fig.send_message(\"set_dpi_ratio\", {'dpi_ratio': mpl.ratio});\n",
       "            }\n",
       "            fig.send_message(\"refresh\", {});\n",
       "        }\n",
       "\n",
       "    this.imageObj.onload = function() {\n",
       "            if (fig.image_mode == 'full') {\n",
       "                // Full images could contain transparency (where diff images\n",
       "                // almost always do), so we need to clear the canvas so that\n",
       "                // there is no ghosting.\n",
       "                fig.context.clearRect(0, 0, fig.canvas.width, fig.canvas.height);\n",
       "            }\n",
       "            fig.context.drawImage(fig.imageObj, 0, 0);\n",
       "        };\n",
       "\n",
       "    this.imageObj.onunload = function() {\n",
       "        fig.ws.close();\n",
       "    }\n",
       "\n",
       "    this.ws.onmessage = this._make_on_message_function(this);\n",
       "\n",
       "    this.ondownload = ondownload;\n",
       "}\n",
       "\n",
       "mpl.figure.prototype._init_header = function() {\n",
       "    var titlebar = $(\n",
       "        '<div class=\"ui-dialog-titlebar ui-widget-header ui-corner-all ' +\n",
       "        'ui-helper-clearfix\"/>');\n",
       "    var titletext = $(\n",
       "        '<div class=\"ui-dialog-title\" style=\"width: 100%; ' +\n",
       "        'text-align: center; padding: 3px;\"/>');\n",
       "    titlebar.append(titletext)\n",
       "    this.root.append(titlebar);\n",
       "    this.header = titletext[0];\n",
       "}\n",
       "\n",
       "\n",
       "\n",
       "mpl.figure.prototype._canvas_extra_style = function(canvas_div) {\n",
       "\n",
       "}\n",
       "\n",
       "\n",
       "mpl.figure.prototype._root_extra_style = function(canvas_div) {\n",
       "\n",
       "}\n",
       "\n",
       "mpl.figure.prototype._init_canvas = function() {\n",
       "    var fig = this;\n",
       "\n",
       "    var canvas_div = $('<div/>');\n",
       "\n",
       "    canvas_div.attr('style', 'position: relative; clear: both; outline: 0');\n",
       "\n",
       "    function canvas_keyboard_event(event) {\n",
       "        return fig.key_event(event, event['data']);\n",
       "    }\n",
       "\n",
       "    canvas_div.keydown('key_press', canvas_keyboard_event);\n",
       "    canvas_div.keyup('key_release', canvas_keyboard_event);\n",
       "    this.canvas_div = canvas_div\n",
       "    this._canvas_extra_style(canvas_div)\n",
       "    this.root.append(canvas_div);\n",
       "\n",
       "    var canvas = $('<canvas/>');\n",
       "    canvas.addClass('mpl-canvas');\n",
       "    canvas.attr('style', \"left: 0; top: 0; z-index: 0; outline: 0\")\n",
       "\n",
       "    this.canvas = canvas[0];\n",
       "    this.context = canvas[0].getContext(\"2d\");\n",
       "\n",
       "    var backingStore = this.context.backingStorePixelRatio ||\n",
       "\tthis.context.webkitBackingStorePixelRatio ||\n",
       "\tthis.context.mozBackingStorePixelRatio ||\n",
       "\tthis.context.msBackingStorePixelRatio ||\n",
       "\tthis.context.oBackingStorePixelRatio ||\n",
       "\tthis.context.backingStorePixelRatio || 1;\n",
       "\n",
       "    mpl.ratio = (window.devicePixelRatio || 1) / backingStore;\n",
       "\n",
       "    var rubberband = $('<canvas/>');\n",
       "    rubberband.attr('style', \"position: absolute; left: 0; top: 0; z-index: 1;\")\n",
       "\n",
       "    var pass_mouse_events = true;\n",
       "\n",
       "    canvas_div.resizable({\n",
       "        start: function(event, ui) {\n",
       "            pass_mouse_events = false;\n",
       "        },\n",
       "        resize: function(event, ui) {\n",
       "            fig.request_resize(ui.size.width, ui.size.height);\n",
       "        },\n",
       "        stop: function(event, ui) {\n",
       "            pass_mouse_events = true;\n",
       "            fig.request_resize(ui.size.width, ui.size.height);\n",
       "        },\n",
       "    });\n",
       "\n",
       "    function mouse_event_fn(event) {\n",
       "        if (pass_mouse_events)\n",
       "            return fig.mouse_event(event, event['data']);\n",
       "    }\n",
       "\n",
       "    rubberband.mousedown('button_press', mouse_event_fn);\n",
       "    rubberband.mouseup('button_release', mouse_event_fn);\n",
       "    // Throttle sequential mouse events to 1 every 20ms.\n",
       "    rubberband.mousemove('motion_notify', mouse_event_fn);\n",
       "\n",
       "    rubberband.mouseenter('figure_enter', mouse_event_fn);\n",
       "    rubberband.mouseleave('figure_leave', mouse_event_fn);\n",
       "\n",
       "    canvas_div.on(\"wheel\", function (event) {\n",
       "        event = event.originalEvent;\n",
       "        event['data'] = 'scroll'\n",
       "        if (event.deltaY < 0) {\n",
       "            event.step = 1;\n",
       "        } else {\n",
       "            event.step = -1;\n",
       "        }\n",
       "        mouse_event_fn(event);\n",
       "    });\n",
       "\n",
       "    canvas_div.append(canvas);\n",
       "    canvas_div.append(rubberband);\n",
       "\n",
       "    this.rubberband = rubberband;\n",
       "    this.rubberband_canvas = rubberband[0];\n",
       "    this.rubberband_context = rubberband[0].getContext(\"2d\");\n",
       "    this.rubberband_context.strokeStyle = \"#000000\";\n",
       "\n",
       "    this._resize_canvas = function(width, height) {\n",
       "        // Keep the size of the canvas, canvas container, and rubber band\n",
       "        // canvas in synch.\n",
       "        canvas_div.css('width', width)\n",
       "        canvas_div.css('height', height)\n",
       "\n",
       "        canvas.attr('width', width * mpl.ratio);\n",
       "        canvas.attr('height', height * mpl.ratio);\n",
       "        canvas.attr('style', 'width: ' + width + 'px; height: ' + height + 'px;');\n",
       "\n",
       "        rubberband.attr('width', width);\n",
       "        rubberband.attr('height', height);\n",
       "    }\n",
       "\n",
       "    // Set the figure to an initial 600x600px, this will subsequently be updated\n",
       "    // upon first draw.\n",
       "    this._resize_canvas(600, 600);\n",
       "\n",
       "    // Disable right mouse context menu.\n",
       "    $(this.rubberband_canvas).bind(\"contextmenu\",function(e){\n",
       "        return false;\n",
       "    });\n",
       "\n",
       "    function set_focus () {\n",
       "        canvas.focus();\n",
       "        canvas_div.focus();\n",
       "    }\n",
       "\n",
       "    window.setTimeout(set_focus, 100);\n",
       "}\n",
       "\n",
       "mpl.figure.prototype._init_toolbar = function() {\n",
       "    var fig = this;\n",
       "\n",
       "    var nav_element = $('<div/>');\n",
       "    nav_element.attr('style', 'width: 100%');\n",
       "    this.root.append(nav_element);\n",
       "\n",
       "    // Define a callback function for later on.\n",
       "    function toolbar_event(event) {\n",
       "        return fig.toolbar_button_onclick(event['data']);\n",
       "    }\n",
       "    function toolbar_mouse_event(event) {\n",
       "        return fig.toolbar_button_onmouseover(event['data']);\n",
       "    }\n",
       "\n",
       "    for(var toolbar_ind in mpl.toolbar_items) {\n",
       "        var name = mpl.toolbar_items[toolbar_ind][0];\n",
       "        var tooltip = mpl.toolbar_items[toolbar_ind][1];\n",
       "        var image = mpl.toolbar_items[toolbar_ind][2];\n",
       "        var method_name = mpl.toolbar_items[toolbar_ind][3];\n",
       "\n",
       "        if (!name) {\n",
       "            // put a spacer in here.\n",
       "            continue;\n",
       "        }\n",
       "        var button = $('<button/>');\n",
       "        button.addClass('ui-button ui-widget ui-state-default ui-corner-all ' +\n",
       "                        'ui-button-icon-only');\n",
       "        button.attr('role', 'button');\n",
       "        button.attr('aria-disabled', 'false');\n",
       "        button.click(method_name, toolbar_event);\n",
       "        button.mouseover(tooltip, toolbar_mouse_event);\n",
       "\n",
       "        var icon_img = $('<span/>');\n",
       "        icon_img.addClass('ui-button-icon-primary ui-icon');\n",
       "        icon_img.addClass(image);\n",
       "        icon_img.addClass('ui-corner-all');\n",
       "\n",
       "        var tooltip_span = $('<span/>');\n",
       "        tooltip_span.addClass('ui-button-text');\n",
       "        tooltip_span.html(tooltip);\n",
       "\n",
       "        button.append(icon_img);\n",
       "        button.append(tooltip_span);\n",
       "\n",
       "        nav_element.append(button);\n",
       "    }\n",
       "\n",
       "    var fmt_picker_span = $('<span/>');\n",
       "\n",
       "    var fmt_picker = $('<select/>');\n",
       "    fmt_picker.addClass('mpl-toolbar-option ui-widget ui-widget-content');\n",
       "    fmt_picker_span.append(fmt_picker);\n",
       "    nav_element.append(fmt_picker_span);\n",
       "    this.format_dropdown = fmt_picker[0];\n",
       "\n",
       "    for (var ind in mpl.extensions) {\n",
       "        var fmt = mpl.extensions[ind];\n",
       "        var option = $(\n",
       "            '<option/>', {selected: fmt === mpl.default_extension}).html(fmt);\n",
       "        fmt_picker.append(option);\n",
       "    }\n",
       "\n",
       "    // Add hover states to the ui-buttons\n",
       "    $( \".ui-button\" ).hover(\n",
       "        function() { $(this).addClass(\"ui-state-hover\");},\n",
       "        function() { $(this).removeClass(\"ui-state-hover\");}\n",
       "    );\n",
       "\n",
       "    var status_bar = $('<span class=\"mpl-message\"/>');\n",
       "    nav_element.append(status_bar);\n",
       "    this.message = status_bar[0];\n",
       "}\n",
       "\n",
       "mpl.figure.prototype.request_resize = function(x_pixels, y_pixels) {\n",
       "    // Request matplotlib to resize the figure. Matplotlib will then trigger a resize in the client,\n",
       "    // which will in turn request a refresh of the image.\n",
       "    this.send_message('resize', {'width': x_pixels, 'height': y_pixels});\n",
       "}\n",
       "\n",
       "mpl.figure.prototype.send_message = function(type, properties) {\n",
       "    properties['type'] = type;\n",
       "    properties['figure_id'] = this.id;\n",
       "    this.ws.send(JSON.stringify(properties));\n",
       "}\n",
       "\n",
       "mpl.figure.prototype.send_draw_message = function() {\n",
       "    if (!this.waiting) {\n",
       "        this.waiting = true;\n",
       "        this.ws.send(JSON.stringify({type: \"draw\", figure_id: this.id}));\n",
       "    }\n",
       "}\n",
       "\n",
       "\n",
       "mpl.figure.prototype.handle_save = function(fig, msg) {\n",
       "    var format_dropdown = fig.format_dropdown;\n",
       "    var format = format_dropdown.options[format_dropdown.selectedIndex].value;\n",
       "    fig.ondownload(fig, format);\n",
       "}\n",
       "\n",
       "\n",
       "mpl.figure.prototype.handle_resize = function(fig, msg) {\n",
       "    var size = msg['size'];\n",
       "    if (size[0] != fig.canvas.width || size[1] != fig.canvas.height) {\n",
       "        fig._resize_canvas(size[0], size[1]);\n",
       "        fig.send_message(\"refresh\", {});\n",
       "    };\n",
       "}\n",
       "\n",
       "mpl.figure.prototype.handle_rubberband = function(fig, msg) {\n",
       "    var x0 = msg['x0'] / mpl.ratio;\n",
       "    var y0 = (fig.canvas.height - msg['y0']) / mpl.ratio;\n",
       "    var x1 = msg['x1'] / mpl.ratio;\n",
       "    var y1 = (fig.canvas.height - msg['y1']) / mpl.ratio;\n",
       "    x0 = Math.floor(x0) + 0.5;\n",
       "    y0 = Math.floor(y0) + 0.5;\n",
       "    x1 = Math.floor(x1) + 0.5;\n",
       "    y1 = Math.floor(y1) + 0.5;\n",
       "    var min_x = Math.min(x0, x1);\n",
       "    var min_y = Math.min(y0, y1);\n",
       "    var width = Math.abs(x1 - x0);\n",
       "    var height = Math.abs(y1 - y0);\n",
       "\n",
       "    fig.rubberband_context.clearRect(\n",
       "        0, 0, fig.canvas.width, fig.canvas.height);\n",
       "\n",
       "    fig.rubberband_context.strokeRect(min_x, min_y, width, height);\n",
       "}\n",
       "\n",
       "mpl.figure.prototype.handle_figure_label = function(fig, msg) {\n",
       "    // Updates the figure title.\n",
       "    fig.header.textContent = msg['label'];\n",
       "}\n",
       "\n",
       "mpl.figure.prototype.handle_cursor = function(fig, msg) {\n",
       "    var cursor = msg['cursor'];\n",
       "    switch(cursor)\n",
       "    {\n",
       "    case 0:\n",
       "        cursor = 'pointer';\n",
       "        break;\n",
       "    case 1:\n",
       "        cursor = 'default';\n",
       "        break;\n",
       "    case 2:\n",
       "        cursor = 'crosshair';\n",
       "        break;\n",
       "    case 3:\n",
       "        cursor = 'move';\n",
       "        break;\n",
       "    }\n",
       "    fig.rubberband_canvas.style.cursor = cursor;\n",
       "}\n",
       "\n",
       "mpl.figure.prototype.handle_message = function(fig, msg) {\n",
       "    fig.message.textContent = msg['message'];\n",
       "}\n",
       "\n",
       "mpl.figure.prototype.handle_draw = function(fig, msg) {\n",
       "    // Request the server to send over a new figure.\n",
       "    fig.send_draw_message();\n",
       "}\n",
       "\n",
       "mpl.figure.prototype.handle_image_mode = function(fig, msg) {\n",
       "    fig.image_mode = msg['mode'];\n",
       "}\n",
       "\n",
       "mpl.figure.prototype.updated_canvas_event = function() {\n",
       "    // Called whenever the canvas gets updated.\n",
       "    this.send_message(\"ack\", {});\n",
       "}\n",
       "\n",
       "// A function to construct a web socket function for onmessage handling.\n",
       "// Called in the figure constructor.\n",
       "mpl.figure.prototype._make_on_message_function = function(fig) {\n",
       "    return function socket_on_message(evt) {\n",
       "        if (evt.data instanceof Blob) {\n",
       "            /* FIXME: We get \"Resource interpreted as Image but\n",
       "             * transferred with MIME type text/plain:\" errors on\n",
       "             * Chrome.  But how to set the MIME type?  It doesn't seem\n",
       "             * to be part of the websocket stream */\n",
       "            evt.data.type = \"image/png\";\n",
       "\n",
       "            /* Free the memory for the previous frames */\n",
       "            if (fig.imageObj.src) {\n",
       "                (window.URL || window.webkitURL).revokeObjectURL(\n",
       "                    fig.imageObj.src);\n",
       "            }\n",
       "\n",
       "            fig.imageObj.src = (window.URL || window.webkitURL).createObjectURL(\n",
       "                evt.data);\n",
       "            fig.updated_canvas_event();\n",
       "            fig.waiting = false;\n",
       "            return;\n",
       "        }\n",
       "        else if (typeof evt.data === 'string' && evt.data.slice(0, 21) == \"data:image/png;base64\") {\n",
       "            fig.imageObj.src = evt.data;\n",
       "            fig.updated_canvas_event();\n",
       "            fig.waiting = false;\n",
       "            return;\n",
       "        }\n",
       "\n",
       "        var msg = JSON.parse(evt.data);\n",
       "        var msg_type = msg['type'];\n",
       "\n",
       "        // Call the  \"handle_{type}\" callback, which takes\n",
       "        // the figure and JSON message as its only arguments.\n",
       "        try {\n",
       "            var callback = fig[\"handle_\" + msg_type];\n",
       "        } catch (e) {\n",
       "            console.log(\"No handler for the '\" + msg_type + \"' message type: \", msg);\n",
       "            return;\n",
       "        }\n",
       "\n",
       "        if (callback) {\n",
       "            try {\n",
       "                // console.log(\"Handling '\" + msg_type + \"' message: \", msg);\n",
       "                callback(fig, msg);\n",
       "            } catch (e) {\n",
       "                console.log(\"Exception inside the 'handler_\" + msg_type + \"' callback:\", e, e.stack, msg);\n",
       "            }\n",
       "        }\n",
       "    };\n",
       "}\n",
       "\n",
       "// from http://stackoverflow.com/questions/1114465/getting-mouse-location-in-canvas\n",
       "mpl.findpos = function(e) {\n",
       "    //this section is from http://www.quirksmode.org/js/events_properties.html\n",
       "    var targ;\n",
       "    if (!e)\n",
       "        e = window.event;\n",
       "    if (e.target)\n",
       "        targ = e.target;\n",
       "    else if (e.srcElement)\n",
       "        targ = e.srcElement;\n",
       "    if (targ.nodeType == 3) // defeat Safari bug\n",
       "        targ = targ.parentNode;\n",
       "\n",
       "    // jQuery normalizes the pageX and pageY\n",
       "    // pageX,Y are the mouse positions relative to the document\n",
       "    // offset() returns the position of the element relative to the document\n",
       "    var x = e.pageX - $(targ).offset().left;\n",
       "    var y = e.pageY - $(targ).offset().top;\n",
       "\n",
       "    return {\"x\": x, \"y\": y};\n",
       "};\n",
       "\n",
       "/*\n",
       " * return a copy of an object with only non-object keys\n",
       " * we need this to avoid circular references\n",
       " * http://stackoverflow.com/a/24161582/3208463\n",
       " */\n",
       "function simpleKeys (original) {\n",
       "  return Object.keys(original).reduce(function (obj, key) {\n",
       "    if (typeof original[key] !== 'object')\n",
       "        obj[key] = original[key]\n",
       "    return obj;\n",
       "  }, {});\n",
       "}\n",
       "\n",
       "mpl.figure.prototype.mouse_event = function(event, name) {\n",
       "    var canvas_pos = mpl.findpos(event)\n",
       "\n",
       "    if (name === 'button_press')\n",
       "    {\n",
       "        this.canvas.focus();\n",
       "        this.canvas_div.focus();\n",
       "    }\n",
       "\n",
       "    var x = canvas_pos.x * mpl.ratio;\n",
       "    var y = canvas_pos.y * mpl.ratio;\n",
       "\n",
       "    this.send_message(name, {x: x, y: y, button: event.button,\n",
       "                             step: event.step,\n",
       "                             guiEvent: simpleKeys(event)});\n",
       "\n",
       "    /* This prevents the web browser from automatically changing to\n",
       "     * the text insertion cursor when the button is pressed.  We want\n",
       "     * to control all of the cursor setting manually through the\n",
       "     * 'cursor' event from matplotlib */\n",
       "    event.preventDefault();\n",
       "    return false;\n",
       "}\n",
       "\n",
       "mpl.figure.prototype._key_event_extra = function(event, name) {\n",
       "    // Handle any extra behaviour associated with a key event\n",
       "}\n",
       "\n",
       "mpl.figure.prototype.key_event = function(event, name) {\n",
       "\n",
       "    // Prevent repeat events\n",
       "    if (name == 'key_press')\n",
       "    {\n",
       "        if (event.which === this._key)\n",
       "            return;\n",
       "        else\n",
       "            this._key = event.which;\n",
       "    }\n",
       "    if (name == 'key_release')\n",
       "        this._key = null;\n",
       "\n",
       "    var value = '';\n",
       "    if (event.ctrlKey && event.which != 17)\n",
       "        value += \"ctrl+\";\n",
       "    if (event.altKey && event.which != 18)\n",
       "        value += \"alt+\";\n",
       "    if (event.shiftKey && event.which != 16)\n",
       "        value += \"shift+\";\n",
       "\n",
       "    value += 'k';\n",
       "    value += event.which.toString();\n",
       "\n",
       "    this._key_event_extra(event, name);\n",
       "\n",
       "    this.send_message(name, {key: value,\n",
       "                             guiEvent: simpleKeys(event)});\n",
       "    return false;\n",
       "}\n",
       "\n",
       "mpl.figure.prototype.toolbar_button_onclick = function(name) {\n",
       "    if (name == 'download') {\n",
       "        this.handle_save(this, null);\n",
       "    } else {\n",
       "        this.send_message(\"toolbar_button\", {name: name});\n",
       "    }\n",
       "};\n",
       "\n",
       "mpl.figure.prototype.toolbar_button_onmouseover = function(tooltip) {\n",
       "    this.message.textContent = tooltip;\n",
       "};\n",
       "mpl.toolbar_items = [[\"Home\", \"Reset original view\", \"fa fa-home icon-home\", \"home\"], [\"Back\", \"Back to previous view\", \"fa fa-arrow-left icon-arrow-left\", \"back\"], [\"Forward\", \"Forward to next view\", \"fa fa-arrow-right icon-arrow-right\", \"forward\"], [\"\", \"\", \"\", \"\"], [\"Pan\", \"Pan axes with left mouse, zoom with right\", \"fa fa-arrows icon-move\", \"pan\"], [\"Zoom\", \"Zoom to rectangle\", \"fa fa-square-o icon-check-empty\", \"zoom\"], [\"\", \"\", \"\", \"\"], [\"Download\", \"Download plot\", \"fa fa-floppy-o icon-save\", \"download\"]];\n",
       "\n",
       "mpl.extensions = [\"eps\", \"jpeg\", \"pdf\", \"png\", \"ps\", \"raw\", \"svg\", \"tif\"];\n",
       "\n",
       "mpl.default_extension = \"png\";var comm_websocket_adapter = function(comm) {\n",
       "    // Create a \"websocket\"-like object which calls the given IPython comm\n",
       "    // object with the appropriate methods. Currently this is a non binary\n",
       "    // socket, so there is still some room for performance tuning.\n",
       "    var ws = {};\n",
       "\n",
       "    ws.close = function() {\n",
       "        comm.close()\n",
       "    };\n",
       "    ws.send = function(m) {\n",
       "        //console.log('sending', m);\n",
       "        comm.send(m);\n",
       "    };\n",
       "    // Register the callback with on_msg.\n",
       "    comm.on_msg(function(msg) {\n",
       "        //console.log('receiving', msg['content']['data'], msg);\n",
       "        // Pass the mpl event to the overridden (by mpl) onmessage function.\n",
       "        ws.onmessage(msg['content']['data'])\n",
       "    });\n",
       "    return ws;\n",
       "}\n",
       "\n",
       "mpl.mpl_figure_comm = function(comm, msg) {\n",
       "    // This is the function which gets called when the mpl process\n",
       "    // starts-up an IPython Comm through the \"matplotlib\" channel.\n",
       "\n",
       "    var id = msg.content.data.id;\n",
       "    // Get hold of the div created by the display call when the Comm\n",
       "    // socket was opened in Python.\n",
       "    var element = $(\"#\" + id);\n",
       "    var ws_proxy = comm_websocket_adapter(comm)\n",
       "\n",
       "    function ondownload(figure, format) {\n",
       "        window.open(figure.imageObj.src);\n",
       "    }\n",
       "\n",
       "    var fig = new mpl.figure(id, ws_proxy,\n",
       "                           ondownload,\n",
       "                           element.get(0));\n",
       "\n",
       "    // Call onopen now - mpl needs it, as it is assuming we've passed it a real\n",
       "    // web socket which is closed, not our websocket->open comm proxy.\n",
       "    ws_proxy.onopen();\n",
       "\n",
       "    fig.parent_element = element.get(0);\n",
       "    fig.cell_info = mpl.find_output_cell(\"<div id='\" + id + \"'></div>\");\n",
       "    if (!fig.cell_info) {\n",
       "        console.error(\"Failed to find cell for figure\", id, fig);\n",
       "        return;\n",
       "    }\n",
       "\n",
       "    var output_index = fig.cell_info[2]\n",
       "    var cell = fig.cell_info[0];\n",
       "\n",
       "};\n",
       "\n",
       "mpl.figure.prototype.handle_close = function(fig, msg) {\n",
       "    var width = fig.canvas.width/mpl.ratio\n",
       "    fig.root.unbind('remove')\n",
       "\n",
       "    // Update the output cell to use the data from the current canvas.\n",
       "    fig.push_to_output();\n",
       "    var dataURL = fig.canvas.toDataURL();\n",
       "    // Re-enable the keyboard manager in IPython - without this line, in FF,\n",
       "    // the notebook keyboard shortcuts fail.\n",
       "    IPython.keyboard_manager.enable()\n",
       "    $(fig.parent_element).html('<img src=\"' + dataURL + '\" width=\"' + width + '\">');\n",
       "    fig.close_ws(fig, msg);\n",
       "}\n",
       "\n",
       "mpl.figure.prototype.close_ws = function(fig, msg){\n",
       "    fig.send_message('closing', msg);\n",
       "    // fig.ws.close()\n",
       "}\n",
       "\n",
       "mpl.figure.prototype.push_to_output = function(remove_interactive) {\n",
       "    // Turn the data on the canvas into data in the output cell.\n",
       "    var width = this.canvas.width/mpl.ratio\n",
       "    var dataURL = this.canvas.toDataURL();\n",
       "    this.cell_info[1]['text/html'] = '<img src=\"' + dataURL + '\" width=\"' + width + '\">';\n",
       "}\n",
       "\n",
       "mpl.figure.prototype.updated_canvas_event = function() {\n",
       "    // Tell IPython that the notebook contents must change.\n",
       "    IPython.notebook.set_dirty(true);\n",
       "    this.send_message(\"ack\", {});\n",
       "    var fig = this;\n",
       "    // Wait a second, then push the new image to the DOM so\n",
       "    // that it is saved nicely (might be nice to debounce this).\n",
       "    setTimeout(function () { fig.push_to_output() }, 1000);\n",
       "}\n",
       "\n",
       "mpl.figure.prototype._init_toolbar = function() {\n",
       "    var fig = this;\n",
       "\n",
       "    var nav_element = $('<div/>');\n",
       "    nav_element.attr('style', 'width: 100%');\n",
       "    this.root.append(nav_element);\n",
       "\n",
       "    // Define a callback function for later on.\n",
       "    function toolbar_event(event) {\n",
       "        return fig.toolbar_button_onclick(event['data']);\n",
       "    }\n",
       "    function toolbar_mouse_event(event) {\n",
       "        return fig.toolbar_button_onmouseover(event['data']);\n",
       "    }\n",
       "\n",
       "    for(var toolbar_ind in mpl.toolbar_items){\n",
       "        var name = mpl.toolbar_items[toolbar_ind][0];\n",
       "        var tooltip = mpl.toolbar_items[toolbar_ind][1];\n",
       "        var image = mpl.toolbar_items[toolbar_ind][2];\n",
       "        var method_name = mpl.toolbar_items[toolbar_ind][3];\n",
       "\n",
       "        if (!name) { continue; };\n",
       "\n",
       "        var button = $('<button class=\"btn btn-default\" href=\"#\" title=\"' + name + '\"><i class=\"fa ' + image + ' fa-lg\"></i></button>');\n",
       "        button.click(method_name, toolbar_event);\n",
       "        button.mouseover(tooltip, toolbar_mouse_event);\n",
       "        nav_element.append(button);\n",
       "    }\n",
       "\n",
       "    // Add the status bar.\n",
       "    var status_bar = $('<span class=\"mpl-message\" style=\"text-align:right; float: right;\"/>');\n",
       "    nav_element.append(status_bar);\n",
       "    this.message = status_bar[0];\n",
       "\n",
       "    // Add the close button to the window.\n",
       "    var buttongrp = $('<div class=\"btn-group inline pull-right\"></div>');\n",
       "    var button = $('<button class=\"btn btn-mini btn-primary\" href=\"#\" title=\"Stop Interaction\"><i class=\"fa fa-power-off icon-remove icon-large\"></i></button>');\n",
       "    button.click(function (evt) { fig.handle_close(fig, {}); } );\n",
       "    button.mouseover('Stop Interaction', toolbar_mouse_event);\n",
       "    buttongrp.append(button);\n",
       "    var titlebar = this.root.find($('.ui-dialog-titlebar'));\n",
       "    titlebar.prepend(buttongrp);\n",
       "}\n",
       "\n",
       "mpl.figure.prototype._root_extra_style = function(el){\n",
       "    var fig = this\n",
       "    el.on(\"remove\", function(){\n",
       "\tfig.close_ws(fig, {});\n",
       "    });\n",
       "}\n",
       "\n",
       "mpl.figure.prototype._canvas_extra_style = function(el){\n",
       "    // this is important to make the div 'focusable\n",
       "    el.attr('tabindex', 0)\n",
       "    // reach out to IPython and tell the keyboard manager to turn it's self\n",
       "    // off when our div gets focus\n",
       "\n",
       "    // location in version 3\n",
       "    if (IPython.notebook.keyboard_manager) {\n",
       "        IPython.notebook.keyboard_manager.register_events(el);\n",
       "    }\n",
       "    else {\n",
       "        // location in version 2\n",
       "        IPython.keyboard_manager.register_events(el);\n",
       "    }\n",
       "\n",
       "}\n",
       "\n",
       "mpl.figure.prototype._key_event_extra = function(event, name) {\n",
       "    var manager = IPython.notebook.keyboard_manager;\n",
       "    if (!manager)\n",
       "        manager = IPython.keyboard_manager;\n",
       "\n",
       "    // Check for shift+enter\n",
       "    if (event.shiftKey && event.which == 13) {\n",
       "        this.canvas_div.blur();\n",
       "        event.shiftKey = false;\n",
       "        // Send a \"J\" for go to next cell\n",
       "        event.which = 74;\n",
       "        event.keyCode = 74;\n",
       "        manager.command_mode();\n",
       "        manager.handle_keydown(event);\n",
       "    }\n",
       "}\n",
       "\n",
       "mpl.figure.prototype.handle_save = function(fig, msg) {\n",
       "    fig.ondownload(fig, null);\n",
       "}\n",
       "\n",
       "\n",
       "mpl.find_output_cell = function(html_output) {\n",
       "    // Return the cell and output element which can be found *uniquely* in the notebook.\n",
       "    // Note - this is a bit hacky, but it is done because the \"notebook_saving.Notebook\"\n",
       "    // IPython event is triggered only after the cells have been serialised, which for\n",
       "    // our purposes (turning an active figure into a static one), is too late.\n",
       "    var cells = IPython.notebook.get_cells();\n",
       "    var ncells = cells.length;\n",
       "    for (var i=0; i<ncells; i++) {\n",
       "        var cell = cells[i];\n",
       "        if (cell.cell_type === 'code'){\n",
       "            for (var j=0; j<cell.output_area.outputs.length; j++) {\n",
       "                var data = cell.output_area.outputs[j];\n",
       "                if (data.data) {\n",
       "                    // IPython >= 3 moved mimebundle to data attribute of output\n",
       "                    data = data.data;\n",
       "                }\n",
       "                if (data['text/html'] == html_output) {\n",
       "                    return [cell, data, j];\n",
       "                }\n",
       "            }\n",
       "        }\n",
       "    }\n",
       "}\n",
       "\n",
       "// Register the function which deals with the matplotlib target/channel.\n",
       "// The kernel may be null if the page has been refreshed.\n",
       "if (IPython.notebook.kernel != null) {\n",
       "    IPython.notebook.kernel.comm_manager.register_target('matplotlib', mpl.mpl_figure_comm);\n",
       "}\n"
      ],
      "text/plain": [
       "<IPython.core.display.Javascript object>"
      ]
     },
     "metadata": {},
     "output_type": "display_data"
    },
    {
     "data": {
      "text/html": [
       "<img src=\"data:image/png;base64,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\" width=\"640\">"
      ],
      "text/plain": [
       "<IPython.core.display.HTML object>"
      ]
     },
     "metadata": {},
     "output_type": "display_data"
    },
    {
     "data": {
      "text/plain": [
       "<matplotlib.contour.QuadContourSet at 0x1a18029908>"
      ]
     },
     "execution_count": 36,
     "metadata": {},
     "output_type": "execute_result"
    }
   ],
   "source": [
    "from mpl_toolkits.mplot3d import Axes3D\n",
    "from matplotlib import cm\n",
    "\n",
    "x = np.linspace(-6,6,30)\n",
    "y = np.linspace(-6,6,30)\n",
    "X, Y, Z = sin3df(x,y)\n",
    "\n",
    "fig = plt.figure()\n",
    "ax = fig.add_subplot(111, projection='3d')\n",
    "ax.contour3D(X,Y,Z, 50, cmap='Reds')"
   ]
  },
  {
   "cell_type": "markdown",
   "metadata": {},
   "source": [
    "### Default values\n",
    "\n",
    "You can set default values in the function definition such that they need not be reinserted for each function call, they can still be changed and explicitly defined in the function call as well. "
   ]
  },
  {
   "cell_type": "code",
   "execution_count": 26,
   "metadata": {},
   "outputs": [],
   "source": [
    "def listof2(n1=5,n2=6):\n",
    "    return [n1,n2]"
   ]
  },
  {
   "cell_type": "code",
   "execution_count": 27,
   "metadata": {},
   "outputs": [
    {
     "data": {
      "text/plain": [
       "[5, 6]"
      ]
     },
     "execution_count": 27,
     "metadata": {},
     "output_type": "execute_result"
    }
   ],
   "source": [
    "listof2()"
   ]
  },
  {
   "cell_type": "code",
   "execution_count": 28,
   "metadata": {},
   "outputs": [
    {
     "data": {
      "text/plain": [
       "[3, 4]"
      ]
     },
     "execution_count": 28,
     "metadata": {},
     "output_type": "execute_result"
    }
   ],
   "source": [
    "listof2(3,4)"
   ]
  },
  {
   "cell_type": "code",
   "execution_count": 29,
   "metadata": {},
   "outputs": [
    {
     "data": {
      "text/plain": [
       "[4, 3]"
      ]
     },
     "execution_count": 29,
     "metadata": {},
     "output_type": "execute_result"
    }
   ],
   "source": [
    "listof2(n2=3,n1=4)"
   ]
  },
  {
   "cell_type": "markdown",
   "metadata": {},
   "source": [
    "## A digression on recursive functions and functional programming"
   ]
  },
  {
   "cell_type": "markdown",
   "metadata": {},
   "source": [
    "### Functional programming"
   ]
  },
  {
   "cell_type": "markdown",
   "metadata": {},
   "source": [
    "In this programming paradigm, functions are not just a way to organise instructions, they form the entire logic of the program. One of the characteristics of this programming style is that functions don't have to receive just data as input but they can receive other functions as arguments; making the whole program a complex function of functions.\n",
    "\n",
    "Python is not a good language to do functional programming, but it has some of its features. We could write a simple square root example program as:"
   ]
  },
  {
   "cell_type": "code",
   "execution_count": 37,
   "metadata": {},
   "outputs": [
    {
     "data": {
      "text/plain": [
       "[1.0,\n",
       " 1.4142135623730951,\n",
       " 1.7320508075688772,\n",
       " 2.0,\n",
       " 2.23606797749979,\n",
       " 2.449489742783178,\n",
       " 2.6457513110645907,\n",
       " 2.8284271247461903,\n",
       " 3.0,\n",
       " 3.1622776601683795]"
      ]
     },
     "execution_count": 37,
     "metadata": {},
     "output_type": "execute_result"
    }
   ],
   "source": [
    "def sqroot(n):\n",
    "    return n**0.5\n",
    "\n",
    "list(map(sqroot,range(1,11)))"
   ]
  },
  {
   "cell_type": "markdown",
   "metadata": {},
   "source": [
    "### Recursion\n",
    "\n",
    "Recursion allows a function to call itself such that for each iteration of function calling, the function logic is applied to a partially solved problem."
   ]
  },
  {
   "cell_type": "code",
   "execution_count": 39,
   "metadata": {},
   "outputs": [
    {
     "data": {
      "text/plain": [
       "[1.0,\n",
       " 1.4142135623730951,\n",
       " 1.7320508075688772,\n",
       " 2.0,\n",
       " 2.23606797749979,\n",
       " 2.449489742783178,\n",
       " 2.6457513110645907,\n",
       " 2.8284271247461903,\n",
       " 3.0,\n",
       " 3.1622776601683795]"
      ]
     },
     "execution_count": 39,
     "metadata": {},
     "output_type": "execute_result"
    }
   ],
   "source": [
    "def sqrt(x):\n",
    "    if x==[]:\n",
    "        return []\n",
    "    else:\n",
    "        return sqrt(x[:-1])+[x[-1]**0.5]\n",
    "            \n",
    "sqrt(list(range(1,11)))"
   ]
  },
  {
   "cell_type": "markdown",
   "metadata": {},
   "source": [
    "### Write a function that utilises recursion to compute the factorial of an integer"
   ]
  },
  {
   "cell_type": "code",
   "execution_count": 40,
   "metadata": {},
   "outputs": [],
   "source": [
    "def facto(n):\n",
    "    if n == 2:\n",
    "        return n\n",
    "    else:\n",
    "        return n*facto(n-1)"
   ]
  },
  {
   "cell_type": "code",
   "execution_count": 41,
   "metadata": {},
   "outputs": [
    {
     "data": {
      "text/plain": [
       "5040"
      ]
     },
     "execution_count": 41,
     "metadata": {},
     "output_type": "execute_result"
    }
   ],
   "source": [
    "facto(7)"
   ]
  },
  {
   "cell_type": "markdown",
   "metadata": {},
   "source": [
    "## The sock pairing problem"
   ]
  },
  {
   "cell_type": "markdown",
   "metadata": {},
   "source": [
    "You have just done your washing and need to pair your socks. You know the colours of each of the socks in the pile, but you also know that some socks are missing a pair.\n",
    "\n",
    "Complete the sockpairs function below such that when you run the line below it, the example output will be shown. It must accept a list argument of all the socks' colours in the pile (indicated by same numbers) and return an integer representing the number of matching pairs of socks that are available.\n",
    "\n",
    "```\n",
    "Example input:\n",
    "    ar=[1,1,2,4,3,5,4,4,5,6,6,7,3]\n",
    "Example output:\n",
    "    5\n",
    "```"
   ]
  },
  {
   "cell_type": "code",
   "execution_count": 42,
   "metadata": {},
   "outputs": [],
   "source": [
    "#This problem is from https://www.hackerrank.com/challenges/sock-merchant/problem There are plenty more practice questions on the website."
   ]
  },
  {
   "cell_type": "code",
   "execution_count": 8,
   "metadata": {},
   "outputs": [],
   "source": [
    "from collections import Counter\n",
    "\n",
    "\n",
    "def sockpairs(ar):\n",
    "    num_p=0\n",
    "    for values in Counter(ar).values():\n",
    "        num_p+=values//2\n",
    "    return num_p"
   ]
  },
  {
   "cell_type": "code",
   "execution_count": 11,
   "metadata": {},
   "outputs": [
    {
     "data": {
      "text/plain": [
       "5"
      ]
     },
     "execution_count": 11,
     "metadata": {},
     "output_type": "execute_result"
    }
   ],
   "source": [
    "#Test your function using the example input \n",
    "ar=[1,1,2,4,3,5,4,4,5,6,6,7,3]\n",
    "sockpairs(ar)"
   ]
  },
  {
   "cell_type": "code",
   "execution_count": null,
   "metadata": {},
   "outputs": [],
   "source": []
  }
 ],
 "metadata": {
  "kernelspec": {
   "display_name": "Python 3",
   "language": "python",
   "name": "python3"
  },
  "language_info": {
   "codemirror_mode": {
    "name": "ipython",
    "version": 3
   },
   "file_extension": ".py",
   "mimetype": "text/x-python",
   "name": "python",
   "nbconvert_exporter": "python",
   "pygments_lexer": "ipython3",
   "version": "3.6.5"
  }
 },
 "nbformat": 4,
 "nbformat_minor": 2
}
