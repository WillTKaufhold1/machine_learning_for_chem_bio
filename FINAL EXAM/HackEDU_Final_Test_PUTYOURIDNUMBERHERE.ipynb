{
 "cells": [
  {
   "cell_type": "markdown",
   "metadata": {},
   "source": [
    "## Test Problems\n",
    "\n",
    "PUT YOUR IDNUMBER HERE AS WELL PLEASE\n",
    "\n",
    "**1 minute read time**\n",
    "\n",
    "Based on the lecture materials, the following problems are designed to cover your initial learning of python and onto applications of the various ML techniques with toy datasets. \n",
    "\n",
    "The necessary imports are provided for you, however we recommend looking up each of the libraries / packages as you encounter them to help you with the answers. Understanding and reading the application of these packages is a fundamental aspect of writing efficent code. We recommend using the # key to annotate your code as this will make it easier for you to come back to the problems.\n",
    "\n",
    "There are 5 problems ranging in difficulty.\n",
    "\n",
    "Parts of the notebook have been set up in advance for you, such as the X and y variable names in the first problem - do not change these or you will only complicate your work. You are expected to fill in the blanks on the provided code, such that the cell will run and achieve its task. Some of the questions will require you to complete earlier questions.\n",
    "\n",
    "NOTE: Anywhere there are ..., this is a hint to fill in missing code or variables.\n",
    "\n",
    "NOTE 2: Make sure to run the script in order from top to bottom to make sure it runs properly. Then save as HTML with the last line of the notebook.\n",
    "\n",
    "NOTE 3: Make sure you put your Imperial ID number in the file name and save your work as you go. "
   ]
  },
  {
   "cell_type": "code",
   "execution_count": 3,
   "metadata": {},
   "outputs": [],
   "source": [
    "# required imports for your test. We will test that these all work before you start your exam. \n",
    "\n",
    "#%matplotlib notebook\n",
    "#Standard imports for data science with python\n",
    "import numpy as np\n",
    "np.set_printoptions(suppress=True)\n",
    "import pandas as pd\n",
    "import scipy.stats\n",
    "\n",
    "#Imports for plotting using matplotlib\n",
    "import matplotlib as mpl\n",
    "import matplotlib.pyplot as plt\n",
    "from mpl_toolkits.mplot3d import Axes3D\n",
    "import matplotlib.cm as cm\n",
    "plt_style = 'fivethirtyeight'\n",
    "\n",
    "#Imports for advanced visualisation / analytical methods\n",
    "\n",
    "import seaborn \n",
    "from sklearn.linear_model import LinearRegression\n",
    "from sklearn.preprocessing import StandardScaler\n",
    "from sklearn.decomposition import PCA\n",
    "from sklearn.cluster import KMeans"
   ]
  },
  {
   "cell_type": "markdown",
   "metadata": {},
   "source": [
    "## 1 Visualising  a data set problem\n",
    "\n",
    "**1 minute read time**\n",
    "\n",
    "A csv file called 'AllDrugData.csv' containing information on a series of interesting drug compounds has been prepared for you. The datset features physicochemical information for these compounds. \n",
    "\n",
    "The goal of this problem is to use Pandas to open the dataset as a 'dataframe'. This is a really useful way of storing and accessing database information in python. \n",
    "\n",
    "Total points = 3"
   ]
  },
  {
   "cell_type": "markdown",
   "metadata": {},
   "source": [
    "**The following part should take 5 minutes**"
   ]
  },
  {
   "cell_type": "code",
   "execution_count": 2,
   "metadata": {},
   "outputs": [],
   "source": [
    "#QUESTION 1: Open the data into python as a dataframe (1 point)\n",
    "# HINT, the file is in CSV format, which pandas function can handle this?\n",
    "drugdata = ..."
   ]
  },
  {
   "cell_type": "markdown",
   "metadata": {},
   "source": [
    "With knowledge of the shape and from observation of the dataframe, we can see that we have 16 compounds with 19 descriptors of each. \n",
    "\n",
    "Pandas provides a useful way to filter data. Filter the variable 'drugdata' in this order and store to 'moddrugdata':\n",
    "\n",
    "the MW, Molecular Species, Rotatable bond number and PSA and save this as a new object.\n",
    "\n",
    "Note - this [link](https://kite.com/python/examples/2806/pandas-select-multiple-columns-of-a-%60dataframe%60) can provide help here."
   ]
  },
  {
   "cell_type": "code",
   "execution_count": 5,
   "metadata": {
    "scrolled": false
   },
   "outputs": [],
   "source": [
    "#QUESTION 2: Filter the dataframe and store as a new dataframe (1 point)\n",
    "moddrugdata = ..."
   ]
  },
  {
   "cell_type": "markdown",
   "metadata": {},
   "source": [
    "We are now going to observe this data in a more visual way using a [seaborn pair plot](https://seaborn.pydata.org/generated/seaborn.pairplot.html). Make a simple pairplot of the moddrugdata\n"
   ]
  },
  {
   "cell_type": "code",
   "execution_count": 126,
   "metadata": {},
   "outputs": [],
   "source": [
    "#QUESTION 3: show a seaborn pairplot of the moddrugdata(1 point)\n",
    "..."
   ]
  },
  {
   "cell_type": "markdown",
   "metadata": {},
   "source": [
    "## 2 Linear Regression Problem \n",
    "\n",
    "\n",
    "**2 minute read time**\n",
    "\n",
    "Fit the data using linear regression. This question is designed around reading documentation to adapt to your needs. From [Sklearn](https://scikit-learn.org/stable/modules/generated/sklearn.linear_model.LinearRegression.html):\n",
    "\n",
    "We have the example, \n",
    "\n",
    "--------------------------------------\n",
    "X = np.array([[1, 1], [1, 2], [2, 2], [2, 3]])\n",
    "\n",
    "$y = 1 * x_0 + 2 * x_1 + 3$\n",
    "\n",
    "y = np.dot(X, np.array([1, 2])) + 3\n",
    "reg = LinearRegression().fit(X, y)\n",
    "reg.score(X, y)\n",
    "\n",
    "reg.coef_\n",
    "\n",
    "reg.intercept_ \n",
    "\n",
    "reg.predict(np.array([[3, 5]]))\n",
    "\n",
    "------------------------------------\n",
    "\n",
    "\n",
    "In a similar way, use the given data from the drugdata data frame and run a linear regression. \n",
    "\n",
    "Total 10 points"
   ]
  },
  {
   "cell_type": "markdown",
   "metadata": {},
   "source": [
    "**The following should take about 10 minutes**"
   ]
  },
  {
   "cell_type": "code",
   "execution_count": 129,
   "metadata": {},
   "outputs": [],
   "source": [
    "#QUESTION 1: grab the 'MW','HBA','HBD','PSA' parts from the drugdata data as your X values, \n",
    "#and 'Num. Lipinski Violations' as our y values (1 point each)\n",
    "X = ...\n",
    "y = ..."
   ]
  },
  {
   "cell_type": "code",
   "execution_count": 9,
   "metadata": {},
   "outputs": [],
   "source": [
    "#QUESTION 2: what is the (numpy) shape of the data set? (1 point) (please print the result)\n",
    "..."
   ]
  },
  {
   "cell_type": "code",
   "execution_count": 199,
   "metadata": {},
   "outputs": [
    {
     "name": "stdout",
     "output_type": "stream",
     "text": [
      "0.851150340944978 [ 0.00431978 -0.02984861  0.17027408 -0.00278311] -0.9700662055292468\n"
     ]
    }
   ],
   "source": [
    "#QUESTION 3: Run linear regression on X and y variables using the Sklean linear model: LinearRegression() (4 points)\n",
    "# get the instance and call it reg from the LinearRegression class (1 point)\n",
    "reg = ...\n",
    "# fit  (1 point)\n",
    "reg.fit(..., ...)\n",
    "# get score, coef, intercept (1 point each)\n",
    "# hint: use the method score() of reg for score and then attributes coef_ and intercept_ of reg\n",
    "fit_score = ...\n",
    "fit_coeffs = ...\n",
    "fit_intercept = ...\n",
    "print(fit_score, fit_coeffs, fit_intercept)"
   ]
  },
  {
   "cell_type": "code",
   "execution_count": 203,
   "metadata": {},
   "outputs": [
    {
     "name": "stdout",
     "output_type": "stream",
     "text": [
      "Ellipsis\n"
     ]
    }
   ],
   "source": [
    "#QUESTION 4: predict the output of [500, 5, 3, 0.1] (1 point)\n",
    "predicted = ...\n",
    "print(predicted)"
   ]
  },
  {
   "cell_type": "code",
   "execution_count": 95,
   "metadata": {},
   "outputs": [],
   "source": [
    "#QUESTION 5: is this a reasonable estimate and why? One/two sentence answer only. (1 point) \n",
    "# ... PUT ANSWER HERE ..."
   ]
  },
  {
   "cell_type": "markdown",
   "metadata": {},
   "source": [
    "## 3 Dimensionality Reduction\n",
    "\n",
    "**2 minute read time**\n",
    "\n",
    "Linear regression might not be the best approach, so let's now now have a look at reducing the dimensionality of the 'drugdata'. We will use PCA for this part. \n",
    "\n",
    "Read through the sklearn PCA documentation if needed.\n",
    "\n",
    "Total 10 points\n",
    "\n",
    "*Note that you need part 1 question 1 to get this part working properly. If you couldn't get that to work, still write an answer. You will get full points for writing the correct code regardless if it runs (due to previous errors)."
   ]
  },
  {
   "cell_type": "markdown",
   "metadata": {},
   "source": [
    "**The following should take 10 minutes**"
   ]
  },
  {
   "cell_type": "code",
   "execution_count": 11,
   "metadata": {},
   "outputs": [],
   "source": [
    "# Lets look at a large portion of the data set, we set this now to the matrix X\n",
    "# Don't forget to run this cell\n",
    "X = drugdata[['MW','HBA','HBD','Lipinski HBA','Lipinksi HBD','PSA', 'Rotatable bond number', 'Weighted QED', 'Heavy Atoms']].values\n",
    "print(X.shape)"
   ]
  },
  {
   "cell_type": "code",
   "execution_count": 7,
   "metadata": {},
   "outputs": [
    {
     "name": "stdout",
     "output_type": "stream",
     "text": [
      "fill me in here 0, and here 0\n",
      "fill me in here 1, and here 1\n",
      "fill me in here 2, and here 2\n",
      "fill me in here 3, and here 3\n",
      "fill me in here 4, and here 4\n",
      "fill me in here 5, and here 5\n",
      "fill me in here 6, and here 6\n",
      "fill me in here 7, and here 7\n",
      "fill me in here 8, and here 8\n"
     ]
    }
   ],
   "source": [
    "#QUESTION 1: Scale the data\n",
    "\n",
    "# instantiate the SKlearn StandardScaler\n",
    "scaler = ..., # (1 point)\n",
    "# fit the X data\n",
    "... # (1 point)\n",
    "# return the scaled X data as X_scale\n",
    "X_scale = ... # (1 point)\n",
    "\n",
    "# challenge! Make sure that each column has a mean of zero and a standard deviaton of unity. \n",
    "#(Hint, you might need np.std and np.mean)\n",
    "#  Run a for loop and print out the mean and standard deviation for each sample in X_scale, (2 points)\n",
    "# recall that the np.mean() and np.std() can be used to find the mean and standard deviation.\n",
    "for i in range(9):\n",
    "    print(f\"fill me in here {i}, and here {i}\")\n",
    "    "
   ]
  },
  {
   "cell_type": "code",
   "execution_count": 212,
   "metadata": {},
   "outputs": [
    {
     "data": {
      "text/plain": [
       "Text(0.5, 1.0, 'explained variance ratios')"
      ]
     },
     "execution_count": 212,
     "metadata": {},
     "output_type": "execute_result"
    },
    {
     "data": {
      "image/png": "[encoded data removed]",
      "text/plain": [
       "<Figure size 432x288 with 1 Axes>"
      ]
     },
     "metadata": {
      "needs_background": "light"
     },
     "output_type": "display_data"
    }
   ],
   "source": [
    "#QUESTION 2: run PCA on this data. Look at the documentation for help. \n",
    "\n",
    "# instantiate the PCA transform with 8 components (1 point)\n",
    "n_components = 8\n",
    "pca = ...\n",
    "# fit the model (1 point)\n",
    "...\n",
    "\n",
    "# plot the explained variance ratio (1 point)\n",
    "# Hint: read the docs if you need to\n",
    "plt.plot(list(range(8)), ...)\n",
    "plt.xlabel('PCs')\n",
    "plt.ylabel('%')\n",
    "plt.title('explained variance ratios')\n"
   ]
  },
  {
   "cell_type": "code",
   "execution_count": 214,
   "metadata": {},
   "outputs": [],
   "source": [
    "#QUESTION 3: transform the data(1 point)\n",
    "X_pca = ..."
   ]
  },
  {
   "cell_type": "code",
   "execution_count": 216,
   "metadata": {},
   "outputs": [
    {
     "data": {
      "text/plain": [
       "<matplotlib.collections.PathCollection at 0x11aebda0>"
      ]
     },
     "execution_count": 216,
     "metadata": {},
     "output_type": "execute_result"
    },
    {
     "data": {
      "image/png": "[encoded data removed]",
      "text/plain": [
       "<Figure size 432x288 with 1 Axes>"
      ]
     },
     "metadata": {
      "needs_background": "light"
     },
     "output_type": "display_data"
    }
   ],
   "source": [
    "#Challenge !!\n",
    "#QUESTION 4: how would you check to see if the data clusters \n",
    "# with respect to the number of Lipinski violations? (1 points)\n",
    "# HINT: plotting by colour would be a good method.\n",
    "c = drugdata['Num. Lipinski Violations']\n",
    "\n",
    "# MODIFY the plot below so that it will plot the colours c\n",
    "plt.scatter(X_pca[:,0], X_pca[:,1]) # THIS LINE NEEDS TO BE MODIFIED"
   ]
  },
  {
   "cell_type": "markdown",
   "metadata": {},
   "source": [
    "## 4 Clustering\n",
    "\n",
    "Instead of Lipinsiki violations, lets use KMeans clustering in a similar fashion as shown in the lecture material.\n",
    "\n",
    "Total 6 points\n",
    "\n",
    "**The following should take 10 minutes**"
   ]
  },
  {
   "cell_type": "code",
   "execution_count": 218,
   "metadata": {},
   "outputs": [],
   "source": [
    "# QUESTION 1: build a kmeans clustering model\n",
    "\n",
    "# instantiate kmeans with 4 clusters, set random_state=0. (1 point)\n",
    "kmeans = ...\n",
    "# fit the pca transformed data. (1 point)\n",
    "...\n",
    "# plot the first 2 priniple components (1 point)\n",
    "# Remember the shape of X_scale and how to access the columns\n",
    "plt.scatter(..., ..., c=kmeans.labels_)\n",
    "plt.title(\"Clustered PCA plot\")\n",
    "plt.xlabel(\"PC 1\")\n",
    "plt.ylabel(\"PC 2\")\n",
    "plt.show()\n",
    "\n"
   ]
  },
  {
   "cell_type": "code",
   "execution_count": 223,
   "metadata": {},
   "outputs": [
    {
     "data": {
      "text/plain": [
       "Text(0, 0.5, 'inertia')"
      ]
     },
     "execution_count": 223,
     "metadata": {},
     "output_type": "execute_result"
    },
    {
     "data": {
      "image/png": "[encoded data removed]",
      "text/plain": [
       "<Figure size 432x288 with 1 Axes>"
      ]
     },
     "metadata": {
      "needs_background": "light"
     },
     "output_type": "display_data"
    }
   ],
   "source": [
    "# Challenge !!\n",
    "# QUESTION 2: Optimize the number of clusters using the elbow method as described in class.\n",
    "# the inertia_ attribute is the sum of the squared distances of samples to their closest cluster centre.\n",
    "# Remember that the elbow method is the plot of the inertia with the number of clusters modelled. The optimimum point\n",
    "# is given when the decrease of the plot becomes linear.\n",
    "\n",
    "# Here is an empty list we can build on\n",
    "elbow = []\n",
    "# now lets iterate through from 2 to 15 clusters\n",
    "for i in range(2,15):\n",
    "    # fill in the ... below. What should go here? Think about what we are trying to do. (2 points)\n",
    "    ...\n",
    "    elbow.append(kmeans.inertia_)\n",
    "\n",
    "# here is a plot    \n",
    "plt.bar(range(2,15),elbow)\n",
    "plt.xlabel(\"number of clusters\")\n",
    "plt.ylabel(\"inertia\")"
   ]
  },
  {
   "cell_type": "code",
   "execution_count": 110,
   "metadata": {},
   "outputs": [],
   "source": [
    "# QUESTION 3: From this plot, which is an appropriate 'number of clusters'? 1 point.\n",
    "# A: 4?\n",
    "# B: 14?\n",
    "# C: 100?\n",
    "# D: More data is needed\n",
    "\n",
    "# EXPlAIN ANSWER HERE (1 or 2 sentences)"
   ]
  },
  {
   "cell_type": "markdown",
   "metadata": {},
   "source": [
    "##  5 General Questions\n",
    "**THIS IS THE LAST SET OF QUESTIONS**\n",
    "\n",
    "**This should only take 5 minutes**\n",
    "\n",
    "Build a python function that will return the f as in:\n",
    "\n",
    "$$ f =sin \\big( \\sqrt {x^2+y^2} \\big) $$\n",
    "\n",
    "Note that there are 2 arguments in this case $$x$$ and $$y$$\n",
    "\n",
    "Total points = 4 points"
   ]
  },
  {
   "cell_type": "code",
   "execution_count": 248,
   "metadata": {},
   "outputs": [
    {
     "data": {
      "text/plain": [
       "Ellipsis"
      ]
     },
     "execution_count": 248,
     "metadata": {},
     "output_type": "execute_result"
    }
   ],
   "source": [
    "#QUESTION 1: Write a small function, called simpleEq \n",
    "# which will return the f given the argument x and y (1 point)\n",
    "..."
   ]
  },
  {
   "cell_type": "code",
   "execution_count": null,
   "metadata": {},
   "outputs": [],
   "source": [
    "#QUESTION 2: When would you use a logistic regression model? (1 point)\n",
    "#"
   ]
  },
  {
   "cell_type": "code",
   "execution_count": null,
   "metadata": {},
   "outputs": [],
   "source": [
    "#QUESTION 3: What does it mean when the area under the curve of a reciever operating characteristic is 0.5? (1 point)\n",
    "#"
   ]
  },
  {
   "cell_type": "code",
   "execution_count": null,
   "metadata": {},
   "outputs": [],
   "source": [
    "#QUESTION 4: Describe how could you one-hot-encode ['A', 'B', 'C']? (1 point)\n",
    "# Describe manually. You do not have to write code for this.\n",
    "#"
   ]
  },
  {
   "cell_type": "code",
   "execution_count": null,
   "metadata": {},
   "outputs": [],
   "source": [
    "#Question 5: When would you use Priniple Component Analysis? (Give one example) (1 point)\n",
    "#"
   ]
  },
  {
   "cell_type": "markdown",
   "metadata": {},
   "source": [
    "**You should have 15 minutes to check over your work**"
   ]
  },
  {
   "cell_type": "code",
   "execution_count": 18,
   "metadata": {},
   "outputs": [
    {
     "name": "stderr",
     "output_type": "stream",
     "text": [
      "[NbConvertApp] Converting notebook HackEDU_Final_Test_PUTYOURIDNUMBERHERE.ipynb to html\n",
      "[NbConvertApp] Writing 325526 bytes to HackEDU_Final_Test_PUTYOURIDNUMBERHERE.html\n"
     ]
    }
   ],
   "source": [
    "# save as HTML\n",
    "# the last part of this line should be the exact filename of your test notebook:\n",
    "# Please submit the HTML and the original ipynb notebook. (DOUBLE CHECK BOTH FILES BEFORE SUBMITTING)\n",
    "\n",
    "!jupyter nbconvert --to html HackEDU_Final_Test_PUTYOURIDNUMBERHERE.ipynb "
   ]
  },
  {
   "cell_type": "code",
   "execution_count": null,
   "metadata": {},
   "outputs": [],
   "source": []
  }
 ],
 "metadata": {
  "kernelspec": {
   "display_name": "Python 3",
   "language": "python",
   "name": "python3"
  },
  "language_info": {
   "codemirror_mode": {
    "name": "ipython",
    "version": 3
   },
   "file_extension": ".py",
   "mimetype": "text/x-python",
   "name": "python",
   "nbconvert_exporter": "python",
   "pygments_lexer": "ipython3",
   "version": "3.6.4"
  }
 },
 "nbformat": 4,
 "nbformat_minor": 2
}
