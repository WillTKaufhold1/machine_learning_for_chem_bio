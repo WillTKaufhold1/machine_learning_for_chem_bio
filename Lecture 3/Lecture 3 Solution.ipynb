{
 "cells": [
  {
   "cell_type": "code",
   "execution_count": 15,
   "metadata": {},
   "outputs": [],
   "source": [
    "import pandas as pd\n",
    "import numpy as np\n",
    "import seaborn as sns\n",
    "from scipy.stats import ttest_ind\n",
    "import matplotlib.pyplot as plt"
   ]
  },
  {
   "cell_type": "markdown",
   "metadata": {},
   "source": [
    "# Part 1\n"
   ]
  },
  {
   "cell_type": "code",
   "execution_count": 16,
   "metadata": {},
   "outputs": [
    {
     "data": {
      "text/plain": [
       "<bound method NDFrame.head of          Peptide Immunogenicity\n",
       "0     AAAAAAAALY       Negative\n",
       "1      AAAAAIFVI       Positive\n",
       "2     AAADSAVRLW       Negative\n",
       "3      AAAGAAVTV       Positive\n",
       "4      AAAGVVHAV       Negative\n",
       "...          ...            ...\n",
       "7570  YYRYPTGESY       Negative\n",
       "7571   YYSNKAYQY       Negative\n",
       "7572   YYTHPFQGY       Negative\n",
       "7573  YYVECEPRCL       Positive\n",
       "7574   YYYAGSSRL       Positive\n",
       "\n",
       "[7575 rows x 2 columns]>"
      ]
     },
     "execution_count": 16,
     "metadata": {},
     "output_type": "execute_result"
    }
   ],
   "source": [
    "df = pd.read_csv(\"mhc1-peptides.csv\")\n",
    "df.head"
   ]
  },
  {
   "cell_type": "code",
   "execution_count": 18,
   "metadata": {},
   "outputs": [],
   "source": [
    "codes = ['A', 'C', 'D', 'E', 'F', 'G', 'H', 'I', 'K', 'L','M', 'N', 'P', 'Q', 'R', 'S', 'T', 'V', 'W', 'Y']\n",
    "\n",
    "def one_hot_encode(seq):\n",
    "    # not used list\n",
    "    o = list(set(codes) - set(seq))\n",
    "    # put sequence into dataframe\n",
    "    s = pd.DataFrame(list(seq))\n",
    "    # initialize matrix\n",
    "    x = pd.DataFrame(np.zeros((len(seq),len(o)),dtype=int),columns=o)    \n",
    "    # split each string int he Series by the seperator ',' and return df with dummy variables\n",
    "    a = s[0].str.get_dummies(sep=',')\n",
    "    # tack the rest of the matrix on to a\n",
    "    a = a.join(x)\n",
    "    # sort the indices\n",
    "    a = a.sort_index(axis=1)\n",
    "    # break out of dataframe - pull out values only\n",
    "    a = a.values\n",
    "    # stack them end to end\n",
    "    e = a.flatten()\n",
    "    return a,e"
   ]
  },
  {
   "cell_type": "code",
   "execution_count": 67,
   "metadata": {},
   "outputs": [],
   "source": [
    "\n",
    "ss = df['Peptide'][0]\n",
    "a,e = one_hot_encode(ss)\n"
   ]
  },
  {
   "cell_type": "code",
   "execution_count": 106,
   "metadata": {},
   "outputs": [
    {
     "data": {
      "text/plain": [
       "(7575, 260)"
      ]
     },
     "execution_count": 106,
     "metadata": {},
     "output_type": "execute_result"
    }
   ],
   "source": [
    "encoded = []\n",
    "label = []\n",
    "for index, row in df[:].iterrows():\n",
    "    #print(row['Peptide'])\n",
    "    a,e = one_hot_encode(row['Peptide'])\n",
    "    \n",
    "    e_len = len(e)\n",
    "    e_len_dif = 260-e_len\n",
    "    e = np.pad(e,(0,e_len_dif),'constant', constant_values=(0,0))\n",
    "    \n",
    "    encoded.append(list(e))\n",
    "    #print(len(e))\n",
    "    \n",
    "    if row[\"Immunogenicity\"] == \"Negative\":\n",
    "        label.append(-1)\n",
    "    else:\n",
    "        label.append(1)\n",
    "    \n",
    "\n",
    "encoded = np.array(encoded)\n",
    "encoded.shape"
   ]
  },
  {
   "cell_type": "code",
   "execution_count": 107,
   "metadata": {},
   "outputs": [],
   "source": [
    "from sklearn.model_selection import train_test_split\n",
    "\n",
    "X_train, X_test, y_train, y_test = train_test_split(encoded, label, test_size=0.33, random_state=42)"
   ]
  },
  {
   "cell_type": "code",
   "execution_count": 108,
   "metadata": {},
   "outputs": [],
   "source": [
    "from sklearn.ensemble import RandomForestClassifier\n",
    "clf = RandomForestClassifier(n_estimators=100, max_depth=10,\n",
    "                             random_state=0)\n",
    "#clf.fit(X_train, y_train)  "
   ]
  },
  {
   "cell_type": "code",
   "execution_count": 109,
   "metadata": {},
   "outputs": [
    {
     "data": {
      "text/plain": [
       "RandomForestClassifier(bootstrap=True, class_weight=None, criterion='gini',\n",
       "                       max_depth=10, max_features='auto', max_leaf_nodes=None,\n",
       "                       min_impurity_decrease=0.0, min_impurity_split=None,\n",
       "                       min_samples_leaf=1, min_samples_split=2,\n",
       "                       min_weight_fraction_leaf=0.0, n_estimators=100,\n",
       "                       n_jobs=None, oob_score=False, random_state=0, verbose=0,\n",
       "                       warm_start=False)"
      ]
     },
     "execution_count": 109,
     "metadata": {},
     "output_type": "execute_result"
    }
   ],
   "source": [
    "clf.fit(X_train, y_train)"
   ]
  },
  {
   "cell_type": "code",
   "execution_count": 110,
   "metadata": {},
   "outputs": [
    {
     "data": {
      "text/plain": [
       "0.8016"
      ]
     },
     "execution_count": 110,
     "metadata": {},
     "output_type": "execute_result"
    }
   ],
   "source": [
    "clf.score(X_test, y_test)\n"
   ]
  },
  {
   "cell_type": "markdown",
   "metadata": {},
   "source": [
    "# Part 2\n",
    "Processing volcano plots from processes perseus data"
   ]
  },
  {
   "cell_type": "code",
   "execution_count": 3,
   "metadata": {},
   "outputs": [
    {
     "data": {
      "text/plain": [
       "Index(['0 YnMyr_HeLa_1', '1 YnMyr_HeLa_1', '2 YnMyr_HeLa_1', '3 YnMyr_HeLa_1',\n",
       "       '4 YnMyr_HeLa_1', '5 YnMyr_HeLa_1', '6 YnMyr_HeLa_1', '7 YnMyr_HeLa_1',\n",
       "       '0 YnMyr_HeLa_2', '1 YnMyr_HeLa_2', '2 YnMyr_HeLa_2', '3 YnMyr_HeLa_2',\n",
       "       '4 YnMyr_HeLa_2', '5 YnMyr_HeLa_2', '6 YnMyr_HeLa_2', '7 YnMyr_HeLa_2',\n",
       "       '0 YnMyr_HeLa_3', '1 YnMyr_HeLa_3', '2 YnMyr_HeLa_3', '3 YnMyr_HeLa_3',\n",
       "       '4 YnMyr_HeLa_3', '5 YnMyr_HeLa_3', '6 YnMyr_HeLa_3', '7 YnMyr_HeLa_3',\n",
       "       'C: Only identified by site', 'C: Reverse', 'C: Potential contaminant',\n",
       "       'C: GOBP name', 'C: GOMF name', 'C: GOCC name', 'C: KEGG name',\n",
       "       'C: Gly N terminus_', 'C: Post-Myr_', 'C: Fatty acid metabolism_',\n",
       "       'C: Co-myristoylated_', 'N: Peptides', 'N: Razor + unique peptides',\n",
       "       'N: Unique peptides', 'N: Sequence coverage [%]',\n",
       "       'N: Unique + razor sequence coverage [%]',\n",
       "       'N: Unique sequence coverage [%]', 'N: Mol. weight [kDa]', 'N: Q-value',\n",
       "       'N: Score', 'N: Intensity', 'N: MS/MS count', 'T: Protein IDs',\n",
       "       'T: Majority protein IDs', 'T: Protein names', 'T: Gene names'],\n",
       "      dtype='object')"
      ]
     },
     "execution_count": 3,
     "metadata": {},
     "output_type": "execute_result"
    }
   ],
   "source": [
    "# load the data which is \"plain matrix export...\" of the final HeLa N-Gly only matrix\n",
    "df = pd.read_csv('testPerseus.txt', sep='\\t')\n",
    "df.keys()"
   ]
  },
  {
   "cell_type": "code",
   "execution_count": 10,
   "metadata": {},
   "outputs": [
    {
     "data": {
      "text/plain": [
       "array([[ 4.13561e-02,  4.26241e-01, -1.92921e-01],\n",
       "       [ 6.70033e-02,  2.69647e-02, -1.19282e-01],\n",
       "       [-3.26026e-01, -4.50407e-01, -9.18553e-02],\n",
       "       [-1.90487e-01, -1.75953e-04,  1.87001e-01],\n",
       "       [-4.61717e-02, -5.79543e-02, -1.38435e-01],\n",
       "       [-4.13561e-02,  1.75953e-04,  3.60432e-01],\n",
       "       [ 8.28676e-02, -1.28462e-01,  9.18553e-02],\n",
       "       [ 1.66336e-01,  6.93967e-01,  2.76670e-01]])"
      ]
     },
     "execution_count": 10,
     "metadata": {},
     "output_type": "execute_result"
    }
   ],
   "source": [
    "# function for collecting the data\n",
    "# choose the list of channels you want to compare\n",
    "chan_list = [0,1,2,3,4,5,6,7]\n",
    "\n",
    "def getData(ind, chan_list, df):\n",
    "    HeLa_data = []\n",
    "    for chan in chan_list:\n",
    "        HeLa_list = [df[f'{chan} YnMyr_HeLa_{rep}'][ind] for rep in [1,2,3]]\n",
    "        HeLa_data.append(HeLa_list)\n",
    "\n",
    "    return np.array(HeLa_data)\n",
    "\n",
    "# for example, say we want to grab channels (columns) and the replicates (rows) of the first indexed gene\n",
    "getData(0,chan_list,df)\n"
   ]
  },
  {
   "cell_type": "code",
   "execution_count": 20,
   "metadata": {},
   "outputs": [
    {
     "data": {
      "text/plain": [
       "(284, 8, 3)"
      ]
     },
     "execution_count": 20,
     "metadata": {},
     "output_type": "execute_result"
    }
   ],
   "source": [
    "# lets put all the data into a single tensor\n",
    "allData=[]\n",
    "for ind in df.index:\n",
    "    allData.append(getData(ind,chan_list,df))\n",
    "allData = np.array(allData)\n",
    "allData.shape"
   ]
  },
  {
   "cell_type": "code",
   "execution_count": 43,
   "metadata": {},
   "outputs": [
    {
     "data": {
      "text/plain": [
       "(-10.850758473571934, 0.6250334256676506)"
      ]
     },
     "execution_count": 43,
     "metadata": {},
     "output_type": "execute_result"
    }
   ],
   "source": [
    "# volcano plot for channel relative to control channel\n",
    "def volcano(data, chan, control_chan):\n",
    "    fold_change = []\n",
    "    pval = []\n",
    "    fold = np.mean(data[chan,:])/np.mean(data[control_chan,:])\n",
    "    _,p = ttest_ind(data[chan,:], data[control_chan,:])\n",
    "    \n",
    "    return fold, p\n",
    "    \n",
    "volcano(allData[0],0,1)"
   ]
  },
  {
   "cell_type": "code",
   "execution_count": 61,
   "metadata": {
    "scrolled": false
   },
   "outputs": [
    {
     "name": "stderr",
     "output_type": "stream",
     "text": [
      "C:\\Users\\nebarlow\\anaconda3\\lib\\site-packages\\ipykernel_launcher.py:7: RuntimeWarning: invalid value encountered in log2\n",
      "  import sys\n"
     ]
    },
    {
     "data": {
      "image/png": "[encoded data removed]",
      "text/plain": [
       "<Figure size 432x288 with 1 Axes>"
      ]
     },
     "metadata": {
      "needs_background": "light"
     },
     "output_type": "display_data"
    },
    {
     "data": {
      "image/png": "[encoded data removed]",
      "text/plain": [
       "<Figure size 432x288 with 1 Axes>"
      ]
     },
     "metadata": {
      "needs_background": "light"
     },
     "output_type": "display_data"
    },
    {
     "data": {
      "image/png": "[encoded data removed]",
      "text/plain": [
       "<Figure size 432x288 with 1 Axes>"
      ]
     },
     "metadata": {
      "needs_background": "light"
     },
     "output_type": "display_data"
    },
    {
     "data": {
      "image/png": "[encoded data removed]",
      "text/plain": [
       "<Figure size 432x288 with 1 Axes>"
      ]
     },
     "metadata": {
      "needs_background": "light"
     },
     "output_type": "display_data"
    },
    {
     "data": {
      "image/png": "[encoded data removed]",
      "text/plain": [
       "<Figure size 432x288 with 1 Axes>"
      ]
     },
     "metadata": {
      "needs_background": "light"
     },
     "output_type": "display_data"
    },
    {
     "data": {
      "image/png": "[encoded data removed]",
      "text/plain": [
       "<Figure size 432x288 with 1 Axes>"
      ]
     },
     "metadata": {
      "needs_background": "light"
     },
     "output_type": "display_data"
    },
    {
     "data": {
      "image/png": "[encoded data removed]",
      "text/plain": [
       "<Figure size 432x288 with 1 Axes>"
      ]
     },
     "metadata": {
      "needs_background": "light"
     },
     "output_type": "display_data"
    },
    {
     "data": {
      "image/png": "[encoded data removed]",
      "text/plain": [
       "<Figure size 432x288 with 1 Axes>"
      ]
     },
     "metadata": {
      "needs_background": "light"
     },
     "output_type": "display_data"
    }
   ],
   "source": [
    "for chan in chan_list:\n",
    "    volc_data = []\n",
    "    for data in allData:\n",
    "        volc_data.append(volcano(data, chan,1))\n",
    "    volc_data = np.array(volc_data)\n",
    "\n",
    "    plt.scatter(np.log2(volc_data[:,0]), -np.log10(volc_data[:,1]))\n",
    "    #plt.axis([-3,3,0,1])\n",
    "    plt.show()"
   ]
  },
  {
   "cell_type": "code",
   "execution_count": null,
   "metadata": {},
   "outputs": [],
   "source": []
  }
 ],
 "metadata": {
  "kernelspec": {
   "display_name": "Python 3",
   "language": "python",
   "name": "python3"
  },
  "language_info": {
   "codemirror_mode": {
    "name": "ipython",
    "version": 3
   },
   "file_extension": ".py",
   "mimetype": "text/x-python",
   "name": "python",
   "nbconvert_exporter": "python",
   "pygments_lexer": "ipython3",
   "version": "3.7.3"
  }
 },
 "nbformat": 4,
 "nbformat_minor": 2
}
